{
 "cells": [
  {
   "cell_type": "code",
   "execution_count": null,
   "id": "9b964726-e1cf-4df2-9d76-0d76d4be37d5",
   "metadata": {
    "tags": []
   },
   "outputs": [],
   "source": [
    "from collections import OrderedDict, defaultdict"
   ]
  },
  {
   "cell_type": "code",
   "execution_count": null,
   "id": "030b67c5-1e6e-49fe-bc61-ced083c747ae",
   "metadata": {
    "tags": []
   },
   "outputs": [],
   "source": [
    "with open(\"words.txt\") as file:\n",
    "    wordlist = [line.rstrip() for line in file]"
   ]
  },
  {
   "cell_type": "code",
   "execution_count": null,
   "id": "962d0fd2-bc69-4dbc-b6e7-e4915b560ff5",
   "metadata": {
    "tags": []
   },
   "outputs": [],
   "source": [
    "wordlist[:10]"
   ]
  },
  {
   "cell_type": "code",
   "execution_count": null,
   "id": "89e50abd-54cc-4c29-95d8-d4d44952a3a1",
   "metadata": {
    "tags": []
   },
   "outputs": [],
   "source": [
    "len(wordlist)"
   ]
  },
  {
   "cell_type": "code",
   "execution_count": null,
   "id": "3855a8c1-ad97-4307-8ea9-a70fa26546e5",
   "metadata": {
    "tags": []
   },
   "outputs": [],
   "source": [
    "wordlist = [word.lower() for word in wordlist]\n",
    "wordlist[:10]"
   ]
  },
  {
   "cell_type": "code",
   "execution_count": null,
   "id": "8e13df39-0ef0-4720-89cb-e741dad0bb6b",
   "metadata": {
    "tags": []
   },
   "outputs": [],
   "source": [
    "wordclean = list(OrderedDict.fromkeys(wordlist))"
   ]
  },
  {
   "cell_type": "code",
   "execution_count": null,
   "id": "3c39bf86-7bdb-4734-ab1a-462224a35544",
   "metadata": {
    "tags": []
   },
   "outputs": [],
   "source": [
    "wordclean.sort()\n",
    "wordclean[:10]"
   ]
  },
  {
   "cell_type": "code",
   "execution_count": null,
   "id": "c21e21fe-289e-4320-b08a-e3f46eda9041",
   "metadata": {
    "tags": []
   },
   "outputs": [],
   "source": [
    "words_bylength = defaultdict(list)\n",
    "for word in wordclean:\n",
    "    words_bylength[len(word)].append(word)"
   ]
  },
  {
   "cell_type": "code",
   "execution_count": null,
   "id": "c24b0aa0-31a7-4dae-8be9-d0bc662faad2",
   "metadata": {
    "tags": []
   },
   "outputs": [],
   "source": [
    "words_bylength"
   ]
  },
  {
   "cell_type": "code",
   "execution_count": 23,
   "id": "3fc63dda-a3b2-40b9-882c-bf831ab8d11d",
   "metadata": {},
   "outputs": [],
   "source": [
    "def signature(word):\n",
    "    return ''.join(sorted(word))\n",
    "\n",
    "def anagram(word):\n",
    "    return [w for w in wordclean if signature(w) == signature(word)]\n",
    "\n",
    "def anagram_fast(word):\n",
    "        return words_bysig[signature(word)]"
   ]
  },
  {
   "cell_type": "code",
   "execution_count": null,
   "id": "083a4b4b-98fa-4203-9ee1-88af5dfadca6",
   "metadata": {
    "tags": []
   },
   "outputs": [],
   "source": [
    "words_bysig = defaultdict(list)\n",
    "for word in wordclean:\n",
    "    words_bysig[signature(word)].append(word)\n",
    "words_bysig"
   ]
  },
  {
   "cell_type": "code",
   "execution_count": null,
   "id": "916bd1c4-3912-41d5-a129-8530c54ae6fb",
   "metadata": {
    "tags": []
   },
   "outputs": [],
   "source": [
    "anagrams_all = {word: anagram_fast(word) for word in wordclean if len(anagram_fast(word)) > 1}\n",
    "anagrams_all"
   ]
  },
  {
   "cell_type": "code",
   "execution_count": null,
   "id": "b4c93b67-66ae-4d82-9c33-b1c568403c07",
   "metadata": {
    "tags": []
   },
   "outputs": [],
   "source": [
    "anagrams_bylength = {}\n",
    "for length, words in words_bylength.items():\n",
    "        anagrams_bylength[length] = {word: anagram_fast(word) for word in sorted(words) if len(anagram_fast(word)) > 1}\n",
    "anagrams_bylength\n",
    "    "
   ]
  },
  {
   "cell_type": "code",
   "execution_count": 46,
   "id": "1f2754ad-0220-4d6a-ba11-d88a08aa3fee",
   "metadata": {
    "tags": []
   },
   "outputs": [
    {
     "data": {
      "text/plain": [
       "{1: 0.0,\n",
       " 2: 40.0,\n",
       " 3: 554.0,\n",
       " 5: 4247.0,\n",
       " 4: 2780.0,\n",
       " 8: 3097.0,\n",
       " 7: 4220.0,\n",
       " 9: 2100.0,\n",
       " 6: 5153.0,\n",
       " 11: 584.0,\n",
       " 10: 1168.0,\n",
       " 12: 288.0,\n",
       " 14: 70.0,\n",
       " 16: 35.0,\n",
       " 15: 49.0,\n",
       " 20: 3.0,\n",
       " 19: 7.0,\n",
       " 17: 22.0,\n",
       " 13: 137.0,\n",
       " 18: 10.0,\n",
       " 21: 4.0,\n",
       " 22: 2.0,\n",
       " 23: 0.0,\n",
       " 24: 0.0}"
      ]
     },
     "execution_count": 46,
     "metadata": {},
     "output_type": "execute_result"
    }
   ],
   "source": [
    "anagrams_bylength_total = {}\n",
    "for length, words in words_bylength.items():\n",
    "    anagrams_bylength_total[length] = sum(len(anagram_fast(word))-1 for word in words if len(anagram_fast(word)) > 1) / 2\n",
    "\n",
    "#result = {k:[vi for vi in v if v != vi] for k,v in anagrams_bylength_t.items()}\n",
    "anagrams_bylength_total"
   ]
  },
  {
   "cell_type": "code",
   "execution_count": null,
   "id": "7e90178e-d203-4009-b5c4-9b5f215ede55",
   "metadata": {},
   "outputs": [],
   "source": []
  }
 ],
 "metadata": {
  "kernelspec": {
   "display_name": "Python 3 (ipykernel)",
   "language": "python",
   "name": "python3"
  },
  "language_info": {
   "codemirror_mode": {
    "name": "ipython",
    "version": 3
   },
   "file_extension": ".py",
   "mimetype": "text/x-python",
   "name": "python",
   "nbconvert_exporter": "python",
   "pygments_lexer": "ipython3",
   "version": "3.11.3"
  }
 },
 "nbformat": 4,
 "nbformat_minor": 5
}
